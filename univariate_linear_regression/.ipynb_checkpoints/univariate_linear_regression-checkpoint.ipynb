{
 "cells": [
  {
   "cell_type": "markdown",
   "metadata": {},
   "source": [
    "# Univariate/Simple Linear Regression \n",
    "A simple linear regression implementation using single predictor.\n",
    "\n",
    "Dataset Used: Sweden Auto Insurance Dataset\n",
    "\n",
    "    X = number of claims\n",
    "    Y = total payment for all the claims in thousands of Swedish Kronor for geographical zones in Sweden\n",
    "        "
   ]
  },
  {
   "cell_type": "code",
   "execution_count": 1,
   "metadata": {},
   "outputs": [
    {
     "data": {
      "application/javascript": [
       "\n",
       "            setTimeout(function() {\n",
       "                var nbb_cell_id = 1;\n",
       "                var nbb_unformatted_code = \"# import dependencies here\\nimport numpy as np\\nimport pandas as pd\\nimport matplotlib.pyplot as plt\\n\\n%load_ext nb_black\";\n",
       "                var nbb_formatted_code = \"# import dependencies here\\nimport numpy as np\\nimport pandas as pd\\nimport matplotlib.pyplot as plt\\n\\n%load_ext nb_black\";\n",
       "                var nbb_cells = Jupyter.notebook.get_cells();\n",
       "                for (var i = 0; i < nbb_cells.length; ++i) {\n",
       "                    if (nbb_cells[i].input_prompt_number == nbb_cell_id) {\n",
       "                        if (nbb_cells[i].get_text() == nbb_unformatted_code) {\n",
       "                             nbb_cells[i].set_text(nbb_formatted_code);\n",
       "                        }\n",
       "                        break;\n",
       "                    }\n",
       "                }\n",
       "            }, 500);\n",
       "            "
      ],
      "text/plain": [
       "<IPython.core.display.Javascript object>"
      ]
     },
     "metadata": {},
     "output_type": "display_data"
    }
   ],
   "source": [
    "# import dependencies here\n",
    "import numpy as np\n",
    "import pandas as pd\n",
    "import matplotlib.pyplot as plt\n",
    "\n",
    "%load_ext nb_black"
   ]
  },
  {
   "cell_type": "code",
   "execution_count": 2,
   "metadata": {},
   "outputs": [
    {
     "name": "stdout",
     "output_type": "stream",
     "text": [
      "*** No CODEPAGE record, no encoding_override: will use 'ascii'\n"
     ]
    },
    {
     "data": {
      "application/javascript": [
       "\n",
       "            setTimeout(function() {\n",
       "                var nbb_cell_id = 2;\n",
       "                var nbb_unformatted_code = \"df = pd.read_excel(\\\"sweden_autoinsurance.xls\\\")\";\n",
       "                var nbb_formatted_code = \"df = pd.read_excel(\\\"sweden_autoinsurance.xls\\\")\";\n",
       "                var nbb_cells = Jupyter.notebook.get_cells();\n",
       "                for (var i = 0; i < nbb_cells.length; ++i) {\n",
       "                    if (nbb_cells[i].input_prompt_number == nbb_cell_id) {\n",
       "                        if (nbb_cells[i].get_text() == nbb_unformatted_code) {\n",
       "                             nbb_cells[i].set_text(nbb_formatted_code);\n",
       "                        }\n",
       "                        break;\n",
       "                    }\n",
       "                }\n",
       "            }, 500);\n",
       "            "
      ],
      "text/plain": [
       "<IPython.core.display.Javascript object>"
      ]
     },
     "metadata": {},
     "output_type": "display_data"
    }
   ],
   "source": [
    "df = pd.read_excel(\"sweden_autoinsurance.xls\")"
   ]
  },
  {
   "cell_type": "code",
   "execution_count": 3,
   "metadata": {},
   "outputs": [
    {
     "data": {
      "text/html": [
       "<div>\n",
       "<style scoped>\n",
       "    .dataframe tbody tr th:only-of-type {\n",
       "        vertical-align: middle;\n",
       "    }\n",
       "\n",
       "    .dataframe tbody tr th {\n",
       "        vertical-align: top;\n",
       "    }\n",
       "\n",
       "    .dataframe thead th {\n",
       "        text-align: right;\n",
       "    }\n",
       "</style>\n",
       "<table border=\"1\" class=\"dataframe\">\n",
       "  <thead>\n",
       "    <tr style=\"text-align: right;\">\n",
       "      <th></th>\n",
       "      <th>X</th>\n",
       "      <th>Y</th>\n",
       "    </tr>\n",
       "  </thead>\n",
       "  <tbody>\n",
       "    <tr>\n",
       "      <th>0</th>\n",
       "      <td>108</td>\n",
       "      <td>392.5</td>\n",
       "    </tr>\n",
       "    <tr>\n",
       "      <th>1</th>\n",
       "      <td>19</td>\n",
       "      <td>46.2</td>\n",
       "    </tr>\n",
       "    <tr>\n",
       "      <th>2</th>\n",
       "      <td>13</td>\n",
       "      <td>15.7</td>\n",
       "    </tr>\n",
       "    <tr>\n",
       "      <th>3</th>\n",
       "      <td>124</td>\n",
       "      <td>422.2</td>\n",
       "    </tr>\n",
       "    <tr>\n",
       "      <th>4</th>\n",
       "      <td>40</td>\n",
       "      <td>119.4</td>\n",
       "    </tr>\n",
       "  </tbody>\n",
       "</table>\n",
       "</div>"
      ],
      "text/plain": [
       "     X      Y\n",
       "0  108  392.5\n",
       "1   19   46.2\n",
       "2   13   15.7\n",
       "3  124  422.2\n",
       "4   40  119.4"
      ]
     },
     "execution_count": 3,
     "metadata": {},
     "output_type": "execute_result"
    },
    {
     "data": {
      "application/javascript": [
       "\n",
       "            setTimeout(function() {\n",
       "                var nbb_cell_id = 3;\n",
       "                var nbb_unformatted_code = \"df.head()\";\n",
       "                var nbb_formatted_code = \"df.head()\";\n",
       "                var nbb_cells = Jupyter.notebook.get_cells();\n",
       "                for (var i = 0; i < nbb_cells.length; ++i) {\n",
       "                    if (nbb_cells[i].input_prompt_number == nbb_cell_id) {\n",
       "                        if (nbb_cells[i].get_text() == nbb_unformatted_code) {\n",
       "                             nbb_cells[i].set_text(nbb_formatted_code);\n",
       "                        }\n",
       "                        break;\n",
       "                    }\n",
       "                }\n",
       "            }, 500);\n",
       "            "
      ],
      "text/plain": [
       "<IPython.core.display.Javascript object>"
      ]
     },
     "metadata": {},
     "output_type": "display_data"
    }
   ],
   "source": [
    "df.head()"
   ]
  },
  {
   "cell_type": "markdown",
   "metadata": {},
   "source": [
    "### Steps:\n",
    "\n",
    "    1. Calculate mean\n",
    "    2. Calculate variance\n",
    "    3. Calculate covariance\n",
    "    4. Calculate coefficients\n",
    "    5. Predict"
   ]
  },
  {
   "cell_type": "code",
   "execution_count": 4,
   "metadata": {},
   "outputs": [
    {
     "data": {
      "application/javascript": [
       "\n",
       "            setTimeout(function() {\n",
       "                var nbb_cell_id = 4;\n",
       "                var nbb_unformatted_code = \"# function to split dataset into training and test data\\ndef split_data(dataset):\\n    rows = dataset.shape[0]  # returns number of rows\\n    train_data = dataset[0 : int(0.7 * rows)]\\n    test_data = dataset[int(0.7 * rows) :]\\n    return train_data, test_data\";\n",
       "                var nbb_formatted_code = \"# function to split dataset into training and test data\\ndef split_data(dataset):\\n    rows = dataset.shape[0]  # returns number of rows\\n    train_data = dataset[0 : int(0.7 * rows)]\\n    test_data = dataset[int(0.7 * rows) :]\\n    return train_data, test_data\";\n",
       "                var nbb_cells = Jupyter.notebook.get_cells();\n",
       "                for (var i = 0; i < nbb_cells.length; ++i) {\n",
       "                    if (nbb_cells[i].input_prompt_number == nbb_cell_id) {\n",
       "                        if (nbb_cells[i].get_text() == nbb_unformatted_code) {\n",
       "                             nbb_cells[i].set_text(nbb_formatted_code);\n",
       "                        }\n",
       "                        break;\n",
       "                    }\n",
       "                }\n",
       "            }, 500);\n",
       "            "
      ],
      "text/plain": [
       "<IPython.core.display.Javascript object>"
      ]
     },
     "metadata": {},
     "output_type": "display_data"
    }
   ],
   "source": [
    "# function to split dataset into training and test data\n",
    "def split_data(dataset):\n",
    "    rows = dataset.shape[0]  # returns number of rows\n",
    "    train_data = dataset[0 : int(0.7 * rows)]\n",
    "    test_data = dataset[int(0.7 * rows) :]\n",
    "    return train_data, test_data"
   ]
  },
  {
   "cell_type": "code",
   "execution_count": 5,
   "metadata": {},
   "outputs": [
    {
     "data": {
      "application/javascript": [
       "\n",
       "            setTimeout(function() {\n",
       "                var nbb_cell_id = 5;\n",
       "                var nbb_unformatted_code = \"# function to calculate mean\\ndef mean(values):\\n    return sum(values) / (len(values))\";\n",
       "                var nbb_formatted_code = \"# function to calculate mean\\ndef mean(values):\\n    return sum(values) / (len(values))\";\n",
       "                var nbb_cells = Jupyter.notebook.get_cells();\n",
       "                for (var i = 0; i < nbb_cells.length; ++i) {\n",
       "                    if (nbb_cells[i].input_prompt_number == nbb_cell_id) {\n",
       "                        if (nbb_cells[i].get_text() == nbb_unformatted_code) {\n",
       "                             nbb_cells[i].set_text(nbb_formatted_code);\n",
       "                        }\n",
       "                        break;\n",
       "                    }\n",
       "                }\n",
       "            }, 500);\n",
       "            "
      ],
      "text/plain": [
       "<IPython.core.display.Javascript object>"
      ]
     },
     "metadata": {},
     "output_type": "display_data"
    }
   ],
   "source": [
    "# function to calculate mean\n",
    "def mean(values):\n",
    "    return sum(values) / (len(values))"
   ]
  },
  {
   "cell_type": "code",
   "execution_count": 6,
   "metadata": {},
   "outputs": [
    {
     "data": {
      "application/javascript": [
       "\n",
       "            setTimeout(function() {\n",
       "                var nbb_cell_id = 6;\n",
       "                var nbb_unformatted_code = \"# function to calculate the variance\\ndef variance(values, mean):\\n    var = 0.0\\n    for value in values:\\n        var += (value - mean) ** 2\\n    return var / len(values)\";\n",
       "                var nbb_formatted_code = \"# function to calculate the variance\\ndef variance(values, mean):\\n    var = 0.0\\n    for value in values:\\n        var += (value - mean) ** 2\\n    return var / len(values)\";\n",
       "                var nbb_cells = Jupyter.notebook.get_cells();\n",
       "                for (var i = 0; i < nbb_cells.length; ++i) {\n",
       "                    if (nbb_cells[i].input_prompt_number == nbb_cell_id) {\n",
       "                        if (nbb_cells[i].get_text() == nbb_unformatted_code) {\n",
       "                             nbb_cells[i].set_text(nbb_formatted_code);\n",
       "                        }\n",
       "                        break;\n",
       "                    }\n",
       "                }\n",
       "            }, 500);\n",
       "            "
      ],
      "text/plain": [
       "<IPython.core.display.Javascript object>"
      ]
     },
     "metadata": {},
     "output_type": "display_data"
    }
   ],
   "source": [
    "# function to calculate the variance\n",
    "def variance(values, mean):\n",
    "    var = 0.0\n",
    "    for value in values:\n",
    "        var += (value - mean) ** 2\n",
    "    return var / len(values)"
   ]
  },
  {
   "cell_type": "code",
   "execution_count": 7,
   "metadata": {},
   "outputs": [
    {
     "data": {
      "application/javascript": [
       "\n",
       "            setTimeout(function() {\n",
       "                var nbb_cell_id = 7;\n",
       "                var nbb_unformatted_code = \"# function to calculate covariance\\ndef covariance(x, x_mean, y, y_mean):\\n    cov = 0.0\\n    for i in range(len(x)):\\n        cov += (x[i] - x_mean) * (y[i] - y_mean)\\n    return cov / len(x)\";\n",
       "                var nbb_formatted_code = \"# function to calculate covariance\\ndef covariance(x, x_mean, y, y_mean):\\n    cov = 0.0\\n    for i in range(len(x)):\\n        cov += (x[i] - x_mean) * (y[i] - y_mean)\\n    return cov / len(x)\";\n",
       "                var nbb_cells = Jupyter.notebook.get_cells();\n",
       "                for (var i = 0; i < nbb_cells.length; ++i) {\n",
       "                    if (nbb_cells[i].input_prompt_number == nbb_cell_id) {\n",
       "                        if (nbb_cells[i].get_text() == nbb_unformatted_code) {\n",
       "                             nbb_cells[i].set_text(nbb_formatted_code);\n",
       "                        }\n",
       "                        break;\n",
       "                    }\n",
       "                }\n",
       "            }, 500);\n",
       "            "
      ],
      "text/plain": [
       "<IPython.core.display.Javascript object>"
      ]
     },
     "metadata": {},
     "output_type": "display_data"
    }
   ],
   "source": [
    "# function to calculate covariance\n",
    "def covariance(x, x_mean, y, y_mean):\n",
    "    cov = 0.0\n",
    "    for i in range(len(x)):\n",
    "        cov += (x[i] - x_mean) * (y[i] - y_mean)\n",
    "    return cov / len(x)"
   ]
  },
  {
   "cell_type": "code",
   "execution_count": 8,
   "metadata": {},
   "outputs": [
    {
     "data": {
      "application/javascript": [
       "\n",
       "            setTimeout(function() {\n",
       "                var nbb_cell_id = 8;\n",
       "                var nbb_unformatted_code = \"# estimating the coefficient\\ndef coef(cov, var, y_mean, x_mean):\\n    b1 = cov / var\\n    b0 = y_mean - b1 * (x_mean)\\n    return b0, b1\";\n",
       "                var nbb_formatted_code = \"# estimating the coefficient\\ndef coef(cov, var, y_mean, x_mean):\\n    b1 = cov / var\\n    b0 = y_mean - b1 * (x_mean)\\n    return b0, b1\";\n",
       "                var nbb_cells = Jupyter.notebook.get_cells();\n",
       "                for (var i = 0; i < nbb_cells.length; ++i) {\n",
       "                    if (nbb_cells[i].input_prompt_number == nbb_cell_id) {\n",
       "                        if (nbb_cells[i].get_text() == nbb_unformatted_code) {\n",
       "                             nbb_cells[i].set_text(nbb_formatted_code);\n",
       "                        }\n",
       "                        break;\n",
       "                    }\n",
       "                }\n",
       "            }, 500);\n",
       "            "
      ],
      "text/plain": [
       "<IPython.core.display.Javascript object>"
      ]
     },
     "metadata": {},
     "output_type": "display_data"
    }
   ],
   "source": [
    "# estimating the coefficient\n",
    "def coef(cov, var, y_mean, x_mean):\n",
    "    b1 = cov / var\n",
    "    b0 = y_mean - b1 * (x_mean)\n",
    "    return b0, b1"
   ]
  },
  {
   "cell_type": "code",
   "execution_count": 9,
   "metadata": {},
   "outputs": [
    {
     "data": {
      "application/javascript": [
       "\n",
       "            setTimeout(function() {\n",
       "                var nbb_cell_id = 9;\n",
       "                var nbb_unformatted_code = \"# predict (y hat = b0 + b1(x))\\ndef predictions(b0, b1, test_data):\\n    y_predictions = []\\n    for row in test_data[\\\"X\\\"]:\\n        predicted_y = b0 + b1 * (row)\\n        y_predictions.append(predicted_y)\\n    return y_predictions\";\n",
       "                var nbb_formatted_code = \"# predict (y hat = b0 + b1(x))\\ndef predictions(b0, b1, test_data):\\n    y_predictions = []\\n    for row in test_data[\\\"X\\\"]:\\n        predicted_y = b0 + b1 * (row)\\n        y_predictions.append(predicted_y)\\n    return y_predictions\";\n",
       "                var nbb_cells = Jupyter.notebook.get_cells();\n",
       "                for (var i = 0; i < nbb_cells.length; ++i) {\n",
       "                    if (nbb_cells[i].input_prompt_number == nbb_cell_id) {\n",
       "                        if (nbb_cells[i].get_text() == nbb_unformatted_code) {\n",
       "                             nbb_cells[i].set_text(nbb_formatted_code);\n",
       "                        }\n",
       "                        break;\n",
       "                    }\n",
       "                }\n",
       "            }, 500);\n",
       "            "
      ],
      "text/plain": [
       "<IPython.core.display.Javascript object>"
      ]
     },
     "metadata": {},
     "output_type": "display_data"
    }
   ],
   "source": [
    "# predict (y hat = b0 + b1(x))\n",
    "def predictions(b0, b1, test_data):\n",
    "    y_predictions = []\n",
    "    for row in test_data[\"X\"]:\n",
    "        predicted_y = b0 + b1 * (row)\n",
    "        y_predictions.append(predicted_y)\n",
    "    return y_predictions"
   ]
  },
  {
   "cell_type": "code",
   "execution_count": 10,
   "metadata": {},
   "outputs": [
    {
     "data": {
      "application/javascript": [
       "\n",
       "            setTimeout(function() {\n",
       "                var nbb_cell_id = 10;\n",
       "                var nbb_unformatted_code = \"# univariate linear regression implementation\\n\\n\\ndef univ_linear_regression(train, test):\\n\\n    # estimating coefficients (b0 and b1) using train data\\n    mean_x = mean(train[\\\"X\\\"])\\n    print(\\\"Mean of X Values: \\\", mean_x)\\n\\n    mean_y = mean(train[\\\"Y\\\"])\\n    print(\\\"Mean of Y Values: \\\", mean_y)\\n\\n    var = variance(train[\\\"X\\\"], mean_x)\\n    print(\\\"Variance of X values: \\\", var)\\n\\n    cov = covariance(train[\\\"X\\\"], mean_x, train[\\\"Y\\\"], mean_y)\\n    print(\\\"Covariance of X and Y values: \\\", cov)\\n\\n    b0, b1 = coef(cov, var, mean_x, mean_y)\\n    print(\\\"Coefficients: B0 and B1: \\\", b0, b1)\\n\\n    # making predictions on the test data\\n    y_predictions = predictions(b0, b1, test)\\n    print(\\\"\\\\nPredicted Y Values: \\\", y_predictions)\\n\\n    return y_predictions\";\n",
       "                var nbb_formatted_code = \"# univariate linear regression implementation\\n\\n\\ndef univ_linear_regression(train, test):\\n\\n    # estimating coefficients (b0 and b1) using train data\\n    mean_x = mean(train[\\\"X\\\"])\\n    print(\\\"Mean of X Values: \\\", mean_x)\\n\\n    mean_y = mean(train[\\\"Y\\\"])\\n    print(\\\"Mean of Y Values: \\\", mean_y)\\n\\n    var = variance(train[\\\"X\\\"], mean_x)\\n    print(\\\"Variance of X values: \\\", var)\\n\\n    cov = covariance(train[\\\"X\\\"], mean_x, train[\\\"Y\\\"], mean_y)\\n    print(\\\"Covariance of X and Y values: \\\", cov)\\n\\n    b0, b1 = coef(cov, var, mean_x, mean_y)\\n    print(\\\"Coefficients: B0 and B1: \\\", b0, b1)\\n\\n    # making predictions on the test data\\n    y_predictions = predictions(b0, b1, test)\\n    print(\\\"\\\\nPredicted Y Values: \\\", y_predictions)\\n\\n    return y_predictions\";\n",
       "                var nbb_cells = Jupyter.notebook.get_cells();\n",
       "                for (var i = 0; i < nbb_cells.length; ++i) {\n",
       "                    if (nbb_cells[i].input_prompt_number == nbb_cell_id) {\n",
       "                        if (nbb_cells[i].get_text() == nbb_unformatted_code) {\n",
       "                             nbb_cells[i].set_text(nbb_formatted_code);\n",
       "                        }\n",
       "                        break;\n",
       "                    }\n",
       "                }\n",
       "            }, 500);\n",
       "            "
      ],
      "text/plain": [
       "<IPython.core.display.Javascript object>"
      ]
     },
     "metadata": {},
     "output_type": "display_data"
    }
   ],
   "source": [
    "# univariate linear regression implementation\n",
    "\n",
    "\n",
    "def univ_linear_regression(train, test):\n",
    "\n",
    "    # estimating coefficients (b0 and b1) using train data\n",
    "    mean_x = mean(train[\"X\"])\n",
    "    print(\"Mean of X Values: \", mean_x)\n",
    "\n",
    "    mean_y = mean(train[\"Y\"])\n",
    "    print(\"Mean of Y Values: \", mean_y)\n",
    "\n",
    "    var = variance(train[\"X\"], mean_x)\n",
    "    print(\"Variance of X values: \", var)\n",
    "\n",
    "    cov = covariance(train[\"X\"], mean_x, train[\"Y\"], mean_y)\n",
    "    print(\"Covariance of X and Y values: \", cov)\n",
    "\n",
    "    b0, b1 = coef(cov, var, mean_x, mean_y)\n",
    "    print(\"Coefficients: B0 and B1: \", b0, b1)\n",
    "\n",
    "    # making predictions on the test data\n",
    "    y_predictions = predictions(b0, b1, test)\n",
    "    print(\"\\nPredicted Y Values: \", y_predictions)\n",
    "\n",
    "    return y_predictions"
   ]
  },
  {
   "cell_type": "code",
   "execution_count": 11,
   "metadata": {},
   "outputs": [
    {
     "name": "stdout",
     "output_type": "stream",
     "text": [
      "Training Data\n",
      "       X      Y\n",
      "0   108  392.5\n",
      "1    19   46.2\n",
      "2    13   15.7\n",
      "3   124  422.2\n",
      "4    40  119.4\n",
      "5    57  170.9\n",
      "6    23   56.9\n",
      "7    14   77.5\n",
      "8    45  214.0\n",
      "9    10   65.3\n",
      "10    5   20.9\n",
      "11   48  248.1\n",
      "12   11   23.5\n",
      "13   23   39.6\n",
      "14    7   48.8\n",
      "15    2    6.6\n",
      "16   24  134.9\n",
      "17    6   50.9\n",
      "18    3    4.4\n",
      "19   23  113.0\n",
      "20    6   14.8\n",
      "21    9   48.7\n",
      "22    9   52.1\n",
      "23    3   13.2\n",
      "24   29  103.9\n",
      "25    7   77.5\n",
      "26    4   11.8\n",
      "27   20   98.1\n",
      "28    7   27.9\n",
      "29    4   38.1\n",
      "30    0    0.0\n",
      "31   25   69.2\n",
      "32    6   14.6\n",
      "33    5   40.3\n",
      "34   22  161.5\n",
      "35   11   57.2\n",
      "36   61  217.6\n",
      "37   12   58.1\n",
      "38    4   12.6\n",
      "39   16   59.6\n",
      "40   13   89.9\n",
      "41   60  202.4\n",
      "42   41  181.3\n",
      "43   37  152.8\n",
      "Test Data\n",
      "      X      Y\n",
      "44  55  162.8\n",
      "45  41   73.4\n",
      "46  11   21.3\n",
      "47  27   92.6\n",
      "48   8   76.1\n",
      "49   3   39.9\n",
      "50  17  142.1\n",
      "51  13   93.0\n",
      "52  13   31.9\n",
      "53  15   32.1\n",
      "54   8   55.6\n",
      "55  29  133.3\n",
      "56  30  194.5\n",
      "57  24  137.9\n",
      "58   9   87.4\n",
      "59  31  209.8\n",
      "60  14   95.5\n",
      "61  53  244.6\n",
      "62  26  187.5\n",
      "Mean of X Values:  23.09090909090909\n",
      "Mean of Y Values:  92.60227272727272\n",
      "Variance of X values:  677.6280991735538\n",
      "Covariance of X and Y values:  2344.3452479338844\n",
      "Coefficients: B0 and B1:  -297.2790671258799 3.4596340541265715\n",
      "\n",
      "Predicted Y Values:  [-106.99919414891849, -155.4340709066905, -259.22309253048763, -203.8689476644625, -269.6019946928673, -286.90016496350023, -238.4652882057282, -252.3038244222345, -252.3038244222345, -245.38455631398136, -269.6019946928673, -196.94967955620933, -193.49004550208278, -214.24784982684218, -266.1423606387408, -190.0304114479562, -248.84419036810792, -113.91846225717163, -207.32858171858908]\n"
     ]
    },
    {
     "data": {
      "application/javascript": [
       "\n",
       "            setTimeout(function() {\n",
       "                var nbb_cell_id = 11;\n",
       "                var nbb_unformatted_code = \"train, test = split_data(df)\\nprint(\\\"Training Data\\\\n\\\", train)\\nprint(\\\"Test Data\\\\n\\\", test)\\ntest = test.reset_index()\\ntest_y_predictions = univ_linear_regression(train, test)\";\n",
       "                var nbb_formatted_code = \"train, test = split_data(df)\\nprint(\\\"Training Data\\\\n\\\", train)\\nprint(\\\"Test Data\\\\n\\\", test)\\ntest = test.reset_index()\\ntest_y_predictions = univ_linear_regression(train, test)\";\n",
       "                var nbb_cells = Jupyter.notebook.get_cells();\n",
       "                for (var i = 0; i < nbb_cells.length; ++i) {\n",
       "                    if (nbb_cells[i].input_prompt_number == nbb_cell_id) {\n",
       "                        if (nbb_cells[i].get_text() == nbb_unformatted_code) {\n",
       "                             nbb_cells[i].set_text(nbb_formatted_code);\n",
       "                        }\n",
       "                        break;\n",
       "                    }\n",
       "                }\n",
       "            }, 500);\n",
       "            "
      ],
      "text/plain": [
       "<IPython.core.display.Javascript object>"
      ]
     },
     "metadata": {},
     "output_type": "display_data"
    }
   ],
   "source": [
    "train, test = split_data(df)\n",
    "print(\"Training Data\\n\", train)\n",
    "print(\"Test Data\\n\", test)\n",
    "test = test.reset_index()\n",
    "test_y_predictions = univ_linear_regression(train, test)"
   ]
  },
  {
   "cell_type": "code",
   "execution_count": 12,
   "metadata": {},
   "outputs": [
    {
     "name": "stdout",
     "output_type": "stream",
     "text": [
      "162.8\n",
      "-106.99919414891849\n",
      "73.4\n",
      "-155.4340709066905\n",
      "21.3\n",
      "-259.22309253048763\n",
      "92.6\n",
      "-203.8689476644625\n",
      "76.1\n",
      "-269.6019946928673\n",
      "39.9\n",
      "-286.90016496350023\n",
      "142.1\n",
      "-238.4652882057282\n",
      "93.0\n",
      "-252.3038244222345\n",
      "31.9\n",
      "-252.3038244222345\n",
      "32.1\n",
      "-245.38455631398136\n",
      "55.6\n",
      "-269.6019946928673\n",
      "133.3\n",
      "-196.94967955620933\n",
      "194.5\n",
      "-193.49004550208278\n",
      "137.9\n",
      "-214.24784982684218\n",
      "87.4\n",
      "-266.1423606387408\n",
      "209.8\n",
      "-190.0304114479562\n",
      "95.5\n",
      "-248.84419036810792\n",
      "244.6\n",
      "-113.91846225717163\n",
      "187.5\n",
      "-207.32858171858908\n",
      "\n",
      "Error:  2117106.207646454\n",
      "MSE:  111426.64250770812\n",
      "RMSE:  333.8062948892788\n"
     ]
    },
    {
     "data": {
      "application/javascript": [
       "\n",
       "            setTimeout(function() {\n",
       "                var nbb_cell_id = 12;\n",
       "                var nbb_unformatted_code = \"error = 0.0\\n\\nfor i in range(len(test[\\\"Y\\\"])):\\n    print(test[\\\"Y\\\"][i])\\n    print(test_y_predictions[i])\\n    error += (test_y_predictions[i] - test[\\\"Y\\\"][i]) ** 2\\n\\nprint(\\\"\\\\nError: \\\", error)\\nmse = error / len(test[\\\"Y\\\"])\\nprint(\\\"MSE: \\\", mse)\\nprint(\\\"RMSE: \\\", np.sqrt(mse))\";\n",
       "                var nbb_formatted_code = \"error = 0.0\\n\\nfor i in range(len(test[\\\"Y\\\"])):\\n    print(test[\\\"Y\\\"][i])\\n    print(test_y_predictions[i])\\n    error += (test_y_predictions[i] - test[\\\"Y\\\"][i]) ** 2\\n\\nprint(\\\"\\\\nError: \\\", error)\\nmse = error / len(test[\\\"Y\\\"])\\nprint(\\\"MSE: \\\", mse)\\nprint(\\\"RMSE: \\\", np.sqrt(mse))\";\n",
       "                var nbb_cells = Jupyter.notebook.get_cells();\n",
       "                for (var i = 0; i < nbb_cells.length; ++i) {\n",
       "                    if (nbb_cells[i].input_prompt_number == nbb_cell_id) {\n",
       "                        if (nbb_cells[i].get_text() == nbb_unformatted_code) {\n",
       "                             nbb_cells[i].set_text(nbb_formatted_code);\n",
       "                        }\n",
       "                        break;\n",
       "                    }\n",
       "                }\n",
       "            }, 500);\n",
       "            "
      ],
      "text/plain": [
       "<IPython.core.display.Javascript object>"
      ]
     },
     "metadata": {},
     "output_type": "display_data"
    }
   ],
   "source": [
    "error = 0.0\n",
    "\n",
    "for i in range(len(test[\"Y\"])):\n",
    "    print(test[\"Y\"][i])\n",
    "    print(test_y_predictions[i])\n",
    "    error += (test_y_predictions[i] - test[\"Y\"][i]) ** 2\n",
    "\n",
    "print(\"\\nError: \", error)\n",
    "mse = error / len(test[\"Y\"])\n",
    "print(\"MSE: \", mse)\n",
    "print(\"RMSE: \", np.sqrt(mse))"
   ]
  },
  {
   "cell_type": "code",
   "execution_count": null,
   "metadata": {},
   "outputs": [],
   "source": []
  }
 ],
 "metadata": {
  "kernelspec": {
   "display_name": "models",
   "language": "python",
   "name": "models"
  },
  "language_info": {
   "codemirror_mode": {
    "name": "ipython",
    "version": 3
   },
   "file_extension": ".py",
   "mimetype": "text/x-python",
   "name": "python",
   "nbconvert_exporter": "python",
   "pygments_lexer": "ipython3",
   "version": "3.7.5"
  }
 },
 "nbformat": 4,
 "nbformat_minor": 2
}
