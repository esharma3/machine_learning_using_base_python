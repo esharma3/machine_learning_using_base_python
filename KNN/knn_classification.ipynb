{
 "cells": [
  {
   "cell_type": "markdown",
   "metadata": {},
   "source": [
    "# K Nearest Neighbors - A Supervised Machine Learning Algorithm\n",
    "\n",
    "Implementing KNN classification Algorithm using base Python for the classic Iris Dataset.\n",
    "\n",
    "\n",
    "\n",
    "#### Steps:\n",
    "\n",
    "    1. Divide the dataset into train and test data.\n",
    "    2. Calculate distance (Euclidean distance) between each new data point and all data points in training dataset.\n",
    "    3. Sort the distances in ascending order and extract top k shortest distances.  \n",
    "    4. Find the most frequentyly occurring label/class for the k shortest distance data points.\n",
    "    5. Assign the most frequently occurring class label to the new data point.\n",
    "    6. Calculate the model accuracy - number of correct match / total new input data points.\n",
    "    \n",
    "    \n",
    "    \n",
    "    \n",
    "    "
   ]
  },
  {
   "cell_type": "code",
   "execution_count": 1,
   "metadata": {},
   "outputs": [
    {
     "data": {
      "application/javascript": [
       "\n",
       "            setTimeout(function() {\n",
       "                var nbb_cell_id = 1;\n",
       "                var nbb_unformatted_code = \"# importing dependencies here\\nimport numpy as np\\nimport matplotlib.pyplot as plt\\nimport pandas as pd\\nimport operator\\n\\n%load_ext nb_black\";\n",
       "                var nbb_formatted_code = \"# importing dependencies here\\nimport numpy as np\\nimport matplotlib.pyplot as plt\\nimport pandas as pd\\nimport operator\\n\\n%load_ext nb_black\";\n",
       "                var nbb_cells = Jupyter.notebook.get_cells();\n",
       "                for (var i = 0; i < nbb_cells.length; ++i) {\n",
       "                    if (nbb_cells[i].input_prompt_number == nbb_cell_id) {\n",
       "                        if (nbb_cells[i].get_text() == nbb_unformatted_code) {\n",
       "                             nbb_cells[i].set_text(nbb_formatted_code);\n",
       "                        }\n",
       "                        break;\n",
       "                    }\n",
       "                }\n",
       "            }, 500);\n",
       "            "
      ],
      "text/plain": [
       "<IPython.core.display.Javascript object>"
      ]
     },
     "metadata": {},
     "output_type": "display_data"
    }
   ],
   "source": [
    "# importing dependencies here\n",
    "import numpy as np\n",
    "import matplotlib.pyplot as plt\n",
    "import pandas as pd\n",
    "import operator\n",
    "\n",
    "%load_ext nb_black"
   ]
  },
  {
   "cell_type": "code",
   "execution_count": 2,
   "metadata": {},
   "outputs": [
    {
     "data": {
      "application/javascript": [
       "\n",
       "            setTimeout(function() {\n",
       "                var nbb_cell_id = 2;\n",
       "                var nbb_unformatted_code = \"# reading the classic iris dataset into a df\\niris_df = pd.read_csv(\\\"iris_dataset.csv\\\")\";\n",
       "                var nbb_formatted_code = \"# reading the classic iris dataset into a df\\niris_df = pd.read_csv(\\\"iris_dataset.csv\\\")\";\n",
       "                var nbb_cells = Jupyter.notebook.get_cells();\n",
       "                for (var i = 0; i < nbb_cells.length; ++i) {\n",
       "                    if (nbb_cells[i].input_prompt_number == nbb_cell_id) {\n",
       "                        if (nbb_cells[i].get_text() == nbb_unformatted_code) {\n",
       "                             nbb_cells[i].set_text(nbb_formatted_code);\n",
       "                        }\n",
       "                        break;\n",
       "                    }\n",
       "                }\n",
       "            }, 500);\n",
       "            "
      ],
      "text/plain": [
       "<IPython.core.display.Javascript object>"
      ]
     },
     "metadata": {},
     "output_type": "display_data"
    }
   ],
   "source": [
    "# reading the classic iris dataset into a df\n",
    "iris_df = pd.read_csv(\"iris_dataset.csv\")"
   ]
  },
  {
   "cell_type": "code",
   "execution_count": 3,
   "metadata": {},
   "outputs": [
    {
     "data": {
      "text/plain": [
       "sepal_length    150\n",
       "sepal_width     150\n",
       "petal_length    150\n",
       "petal_width     150\n",
       "species         150\n",
       "dtype: int64"
      ]
     },
     "execution_count": 3,
     "metadata": {},
     "output_type": "execute_result"
    },
    {
     "data": {
      "application/javascript": [
       "\n",
       "            setTimeout(function() {\n",
       "                var nbb_cell_id = 3;\n",
       "                var nbb_unformatted_code = \"iris_df.count()\";\n",
       "                var nbb_formatted_code = \"iris_df.count()\";\n",
       "                var nbb_cells = Jupyter.notebook.get_cells();\n",
       "                for (var i = 0; i < nbb_cells.length; ++i) {\n",
       "                    if (nbb_cells[i].input_prompt_number == nbb_cell_id) {\n",
       "                        if (nbb_cells[i].get_text() == nbb_unformatted_code) {\n",
       "                             nbb_cells[i].set_text(nbb_formatted_code);\n",
       "                        }\n",
       "                        break;\n",
       "                    }\n",
       "                }\n",
       "            }, 500);\n",
       "            "
      ],
      "text/plain": [
       "<IPython.core.display.Javascript object>"
      ]
     },
     "metadata": {},
     "output_type": "display_data"
    }
   ],
   "source": [
    "iris_df.count()"
   ]
  },
  {
   "cell_type": "code",
   "execution_count": 4,
   "metadata": {},
   "outputs": [
    {
     "data": {
      "text/html": [
       "<div>\n",
       "<style scoped>\n",
       "    .dataframe tbody tr th:only-of-type {\n",
       "        vertical-align: middle;\n",
       "    }\n",
       "\n",
       "    .dataframe tbody tr th {\n",
       "        vertical-align: top;\n",
       "    }\n",
       "\n",
       "    .dataframe thead th {\n",
       "        text-align: right;\n",
       "    }\n",
       "</style>\n",
       "<table border=\"1\" class=\"dataframe\">\n",
       "  <thead>\n",
       "    <tr style=\"text-align: right;\">\n",
       "      <th></th>\n",
       "      <th>sepal_length</th>\n",
       "      <th>sepal_width</th>\n",
       "      <th>petal_length</th>\n",
       "      <th>petal_width</th>\n",
       "      <th>species</th>\n",
       "    </tr>\n",
       "  </thead>\n",
       "  <tbody>\n",
       "    <tr>\n",
       "      <th>0</th>\n",
       "      <td>5.1</td>\n",
       "      <td>3.5</td>\n",
       "      <td>1.4</td>\n",
       "      <td>0.2</td>\n",
       "      <td>setosa</td>\n",
       "    </tr>\n",
       "    <tr>\n",
       "      <th>1</th>\n",
       "      <td>4.9</td>\n",
       "      <td>3.0</td>\n",
       "      <td>1.4</td>\n",
       "      <td>0.2</td>\n",
       "      <td>setosa</td>\n",
       "    </tr>\n",
       "    <tr>\n",
       "      <th>2</th>\n",
       "      <td>4.7</td>\n",
       "      <td>3.2</td>\n",
       "      <td>1.3</td>\n",
       "      <td>0.2</td>\n",
       "      <td>setosa</td>\n",
       "    </tr>\n",
       "    <tr>\n",
       "      <th>3</th>\n",
       "      <td>4.6</td>\n",
       "      <td>3.1</td>\n",
       "      <td>1.5</td>\n",
       "      <td>0.2</td>\n",
       "      <td>setosa</td>\n",
       "    </tr>\n",
       "    <tr>\n",
       "      <th>4</th>\n",
       "      <td>5.0</td>\n",
       "      <td>3.6</td>\n",
       "      <td>1.4</td>\n",
       "      <td>0.2</td>\n",
       "      <td>setosa</td>\n",
       "    </tr>\n",
       "  </tbody>\n",
       "</table>\n",
       "</div>"
      ],
      "text/plain": [
       "   sepal_length  sepal_width  petal_length  petal_width species\n",
       "0           5.1          3.5           1.4          0.2  setosa\n",
       "1           4.9          3.0           1.4          0.2  setosa\n",
       "2           4.7          3.2           1.3          0.2  setosa\n",
       "3           4.6          3.1           1.5          0.2  setosa\n",
       "4           5.0          3.6           1.4          0.2  setosa"
      ]
     },
     "execution_count": 4,
     "metadata": {},
     "output_type": "execute_result"
    },
    {
     "data": {
      "application/javascript": [
       "\n",
       "            setTimeout(function() {\n",
       "                var nbb_cell_id = 4;\n",
       "                var nbb_unformatted_code = \"iris_df.head()\";\n",
       "                var nbb_formatted_code = \"iris_df.head()\";\n",
       "                var nbb_cells = Jupyter.notebook.get_cells();\n",
       "                for (var i = 0; i < nbb_cells.length; ++i) {\n",
       "                    if (nbb_cells[i].input_prompt_number == nbb_cell_id) {\n",
       "                        if (nbb_cells[i].get_text() == nbb_unformatted_code) {\n",
       "                             nbb_cells[i].set_text(nbb_formatted_code);\n",
       "                        }\n",
       "                        break;\n",
       "                    }\n",
       "                }\n",
       "            }, 500);\n",
       "            "
      ],
      "text/plain": [
       "<IPython.core.display.Javascript object>"
      ]
     },
     "metadata": {},
     "output_type": "display_data"
    }
   ],
   "source": [
    "iris_df.head()"
   ]
  },
  {
   "cell_type": "code",
   "execution_count": 5,
   "metadata": {},
   "outputs": [
    {
     "data": {
      "application/javascript": [
       "\n",
       "            setTimeout(function() {\n",
       "                var nbb_cell_id = 5;\n",
       "                var nbb_unformatted_code = \"# dividing the data into train and test\\ndef divide_data(data):\\n\\n    np.random.seed(100)\\n    data = data.apply(np.random.permutation, axis=0)\\n\\n    train_data = data[0 : int(0.8 * 150)]\\n    test_data = data[int(0.8 * 150) :]\\n\\n    #     print(\\\"TRAIN \\\", train_data)\\n    #     print(\\\"TEST\\\", test_data)\\n    return train_data, test_data\";\n",
       "                var nbb_formatted_code = \"# dividing the data into train and test\\ndef divide_data(data):\\n\\n    np.random.seed(100)\\n    data = data.apply(np.random.permutation, axis=0)\\n\\n    train_data = data[0 : int(0.8 * 150)]\\n    test_data = data[int(0.8 * 150) :]\\n\\n    #     print(\\\"TRAIN \\\", train_data)\\n    #     print(\\\"TEST\\\", test_data)\\n    return train_data, test_data\";\n",
       "                var nbb_cells = Jupyter.notebook.get_cells();\n",
       "                for (var i = 0; i < nbb_cells.length; ++i) {\n",
       "                    if (nbb_cells[i].input_prompt_number == nbb_cell_id) {\n",
       "                        if (nbb_cells[i].get_text() == nbb_unformatted_code) {\n",
       "                             nbb_cells[i].set_text(nbb_formatted_code);\n",
       "                        }\n",
       "                        break;\n",
       "                    }\n",
       "                }\n",
       "            }, 500);\n",
       "            "
      ],
      "text/plain": [
       "<IPython.core.display.Javascript object>"
      ]
     },
     "metadata": {},
     "output_type": "display_data"
    }
   ],
   "source": [
    "# dividing the data into train and test\n",
    "def divide_data(data):\n",
    "\n",
    "    np.random.seed(100)\n",
    "    data = data.apply(np.random.permutation, axis=0)\n",
    "\n",
    "    train_data = data[0 : int(0.8 * 150)]\n",
    "    test_data = data[int(0.8 * 150) :]\n",
    "\n",
    "    #     print(\"TRAIN \", train_data)\n",
    "    #     print(\"TEST\", test_data)\n",
    "    return train_data, test_data"
   ]
  },
  {
   "cell_type": "code",
   "execution_count": 6,
   "metadata": {},
   "outputs": [
    {
     "data": {
      "application/javascript": [
       "\n",
       "            setTimeout(function() {\n",
       "                var nbb_cell_id = 6;\n",
       "                var nbb_unformatted_code = \"# Euclidean distance calculation\\ndef calc_distance(training_data, test_data_row, length):\\n    distance = 0\\n    for x in range(length):\\n        distance += (training_data[x] - test_data_row[x]) ** 2\\n    return np.sqrt(distance)\";\n",
       "                var nbb_formatted_code = \"# Euclidean distance calculation\\ndef calc_distance(training_data, test_data_row, length):\\n    distance = 0\\n    for x in range(length):\\n        distance += (training_data[x] - test_data_row[x]) ** 2\\n    return np.sqrt(distance)\";\n",
       "                var nbb_cells = Jupyter.notebook.get_cells();\n",
       "                for (var i = 0; i < nbb_cells.length; ++i) {\n",
       "                    if (nbb_cells[i].input_prompt_number == nbb_cell_id) {\n",
       "                        if (nbb_cells[i].get_text() == nbb_unformatted_code) {\n",
       "                             nbb_cells[i].set_text(nbb_formatted_code);\n",
       "                        }\n",
       "                        break;\n",
       "                    }\n",
       "                }\n",
       "            }, 500);\n",
       "            "
      ],
      "text/plain": [
       "<IPython.core.display.Javascript object>"
      ]
     },
     "metadata": {},
     "output_type": "display_data"
    }
   ],
   "source": [
    "# Euclidean distance calculation\n",
    "def calc_distance(training_data, test_data_row, length):\n",
    "    distance = 0\n",
    "    for x in range(length):\n",
    "        distance += (training_data[x] - test_data_row[x]) ** 2\n",
    "    return np.sqrt(distance)"
   ]
  },
  {
   "cell_type": "code",
   "execution_count": 7,
   "metadata": {},
   "outputs": [
    {
     "data": {
      "application/javascript": [
       "\n",
       "            setTimeout(function() {\n",
       "                var nbb_cell_id = 7;\n",
       "                var nbb_unformatted_code = \"def knn(train_data, test_data_instance, k):\\n\\n    distance_dict = {}\\n    length = test_data_instance.shape[0]\\n\\n    # create dictionary of training row index and row distance from the new data point\\n    for i in range(len(train_data)):\\n        dist = calc_distance(train_data.iloc[i], test_data_instance, length)\\n        distance_dict[i] = dist  # dist[0]\\n\\n    #     print(\\\"distance_dict\\\", distance_dict)\\n    # create list of sorted tuples (index,dist) based on distance in ascending order\\n    sorted_distances = sorted(\\n        distance_dict.items(), key=operator.itemgetter(1)\\n    )  # dict.items() returns a list of (key,value) pairs\\n\\n    # create list of top k number of distances and related row index (list k shortest distances)\\n    neighbors_index = []\\n    neighbors_dist = []\\n    for j in range(k):\\n        neighbors_index.append(sorted_distances[j][0])\\n        neighbors_dist.append(round(sorted_distances[j][1], 2))\\n    #     print(\\\"neighbors_index\\\", neighbors_index)\\n\\n    # counting most occurring label/class\\n    count = {}\\n    neigh_label = []\\n\\n    for m in range(len(neighbors_index)):\\n\\n        response = train_data.iloc[neighbors_index[m]][-1]\\n        #         print(\\\"RESPONSE\\\", response)\\n\\n        neigh_label.append(response)\\n\\n        if response in count.keys():\\n            count[response] += 1\\n        else:\\n            count[response] = 1\\n\\n    # sorting to get label of most frequent class (in descending order)\\n    sortcount = sorted(count.items(), key=operator.itemgetter(1), reverse=True)\\n\\n    #     print(\\\"neighbors_index\\\", neighbors_index)\\n    #     print(\\\"neighbors_dist\\\", neighbors_dist)\\n    #     print(\\\"SORT COUNT\\\", sortcount)\\n    return (sortcount[0][0], neighbors_index, neighbors_dist, neigh_label)\";\n",
       "                var nbb_formatted_code = \"def knn(train_data, test_data_instance, k):\\n\\n    distance_dict = {}\\n    length = test_data_instance.shape[0]\\n\\n    # create dictionary of training row index and row distance from the new data point\\n    for i in range(len(train_data)):\\n        dist = calc_distance(train_data.iloc[i], test_data_instance, length)\\n        distance_dict[i] = dist  # dist[0]\\n\\n    #     print(\\\"distance_dict\\\", distance_dict)\\n    # create list of sorted tuples (index,dist) based on distance in ascending order\\n    sorted_distances = sorted(\\n        distance_dict.items(), key=operator.itemgetter(1)\\n    )  # dict.items() returns a list of (key,value) pairs\\n\\n    # create list of top k number of distances and related row index (list k shortest distances)\\n    neighbors_index = []\\n    neighbors_dist = []\\n    for j in range(k):\\n        neighbors_index.append(sorted_distances[j][0])\\n        neighbors_dist.append(round(sorted_distances[j][1], 2))\\n    #     print(\\\"neighbors_index\\\", neighbors_index)\\n\\n    # counting most occurring label/class\\n    count = {}\\n    neigh_label = []\\n\\n    for m in range(len(neighbors_index)):\\n\\n        response = train_data.iloc[neighbors_index[m]][-1]\\n        #         print(\\\"RESPONSE\\\", response)\\n\\n        neigh_label.append(response)\\n\\n        if response in count.keys():\\n            count[response] += 1\\n        else:\\n            count[response] = 1\\n\\n    # sorting to get label of most frequent class (in descending order)\\n    sortcount = sorted(count.items(), key=operator.itemgetter(1), reverse=True)\\n\\n    #     print(\\\"neighbors_index\\\", neighbors_index)\\n    #     print(\\\"neighbors_dist\\\", neighbors_dist)\\n    #     print(\\\"SORT COUNT\\\", sortcount)\\n    return (sortcount[0][0], neighbors_index, neighbors_dist, neigh_label)\";\n",
       "                var nbb_cells = Jupyter.notebook.get_cells();\n",
       "                for (var i = 0; i < nbb_cells.length; ++i) {\n",
       "                    if (nbb_cells[i].input_prompt_number == nbb_cell_id) {\n",
       "                        if (nbb_cells[i].get_text() == nbb_unformatted_code) {\n",
       "                             nbb_cells[i].set_text(nbb_formatted_code);\n",
       "                        }\n",
       "                        break;\n",
       "                    }\n",
       "                }\n",
       "            }, 500);\n",
       "            "
      ],
      "text/plain": [
       "<IPython.core.display.Javascript object>"
      ]
     },
     "metadata": {},
     "output_type": "display_data"
    }
   ],
   "source": [
    "def knn(train_data, test_data_instance, k):\n",
    "\n",
    "    distance_dict = {}\n",
    "    length = test_data_instance.shape[0]\n",
    "\n",
    "    # create dictionary of training row index and row distance from the new data point\n",
    "    for i in range(len(train_data)):\n",
    "        dist = calc_distance(train_data.iloc[i], test_data_instance, length)\n",
    "        distance_dict[i] = dist  # dist[0]\n",
    "\n",
    "    #     print(\"distance_dict\", distance_dict)\n",
    "    # create list of sorted tuples (index,dist) based on distance in ascending order\n",
    "    sorted_distances = sorted(\n",
    "        distance_dict.items(), key=operator.itemgetter(1)\n",
    "    )  # dict.items() returns a list of (key,value) pairs\n",
    "\n",
    "    # create list of top k number of distances and related row index (list k shortest distances)\n",
    "    neighbors_index = []\n",
    "    neighbors_dist = []\n",
    "    for j in range(k):\n",
    "        neighbors_index.append(sorted_distances[j][0])\n",
    "        neighbors_dist.append(round(sorted_distances[j][1], 2))\n",
    "    #     print(\"neighbors_index\", neighbors_index)\n",
    "\n",
    "    # counting most occurring label/class\n",
    "    count = {}\n",
    "    neigh_label = []\n",
    "\n",
    "    for m in range(len(neighbors_index)):\n",
    "\n",
    "        response = train_data.iloc[neighbors_index[m]][-1]\n",
    "        #         print(\"RESPONSE\", response)\n",
    "\n",
    "        neigh_label.append(response)\n",
    "\n",
    "        if response in count.keys():\n",
    "            count[response] += 1\n",
    "        else:\n",
    "            count[response] = 1\n",
    "\n",
    "    # sorting to get label of most frequent class (in descending order)\n",
    "    sortcount = sorted(count.items(), key=operator.itemgetter(1), reverse=True)\n",
    "\n",
    "    #     print(\"neighbors_index\", neighbors_index)\n",
    "    #     print(\"neighbors_dist\", neighbors_dist)\n",
    "    #     print(\"SORT COUNT\", sortcount)\n",
    "    return (sortcount[0][0], neighbors_index, neighbors_dist, neigh_label)"
   ]
  },
  {
   "cell_type": "code",
   "execution_count": 8,
   "metadata": {},
   "outputs": [
    {
     "name": "stdout",
     "output_type": "stream",
     "text": [
      "   neighbor_dist            neighbor_label result_label actual_label result\n",
      "0   [0.33, 0.53]   [versicolor, virginica]   versicolor   versicolor   pass\n",
      "1   [0.44, 0.45]      [versicolor, setosa]   versicolor    virginica   fail\n",
      "2   [0.32, 0.33]       [virginica, setosa]    virginica   versicolor   fail\n",
      "3   [0.48, 0.71]   [virginica, versicolor]    virginica    virginica   pass\n",
      "4   [0.32, 0.37]       [setosa, virginica]       setosa       setosa   pass\n",
      "5   [0.94, 0.95]    [virginica, virginica]    virginica    virginica   pass\n",
      "6   [0.71, 0.73]      [versicolor, setosa]   versicolor   versicolor   pass\n",
      "7   [0.33, 0.67]  [versicolor, versicolor]   versicolor    virginica   fail\n",
      "8   [0.35, 0.73]       [virginica, setosa]    virginica   versicolor   fail\n",
      "9    [0.88, 1.0]       [setosa, virginica]       setosa    virginica   fail\n",
      "10  [0.53, 0.57]   [virginica, versicolor]    virginica    virginica   pass\n",
      "11  [0.71, 0.73]       [setosa, virginica]       setosa    virginica   fail\n",
      "12  [0.61, 0.87]       [virginica, setosa]    virginica    virginica   pass\n",
      "13  [0.46, 0.57]    [virginica, virginica]    virginica   versicolor   fail\n",
      "14  [0.83, 0.93]          [setosa, setosa]       setosa       setosa   pass\n",
      "15  [0.55, 0.66]   [versicolor, virginica]   versicolor       setosa   fail\n",
      "16   [0.24, 0.9]       [virginica, setosa]    virginica       setosa   fail\n",
      "17   [1.43, 1.5]       [setosa, virginica]       setosa       setosa   pass\n",
      "18   [0.5, 0.69]   [virginica, versicolor]    virginica    virginica   pass\n",
      "19   [0.3, 0.32]  [versicolor, versicolor]   versicolor       setosa   fail\n",
      "20  [0.47, 0.48]   [virginica, versicolor]    virginica   versicolor   fail\n",
      "21  [0.32, 0.42]  [versicolor, versicolor]   versicolor   versicolor   pass\n",
      "22  [0.57, 0.58]   [versicolor, virginica]   versicolor    virginica   fail\n",
      "23  [0.55, 0.56]   [versicolor, virginica]   versicolor       setosa   fail\n",
      "24  [0.83, 1.31]       [setosa, virginica]       setosa   versicolor   fail\n",
      "25  [0.24, 0.44]       [virginica, setosa]    virginica    virginica   pass\n",
      "26  [0.73, 0.92]      [versicolor, setosa]   versicolor   versicolor   pass\n",
      "27  [0.87, 1.24]  [versicolor, versicolor]   versicolor    virginica   fail\n",
      "28  [0.32, 0.74]       [virginica, setosa]    virginica   versicolor   fail\n",
      "29   [0.3, 0.42]  [versicolor, versicolor]   versicolor   versicolor   pass\n",
      "\n",
      "k:  2\n",
      "Total Number of Input Data Points:  30\n",
      "Number of Passed test cases:  14\n",
      "\n",
      "Model Accuracy: 46.67%\n"
     ]
    },
    {
     "data": {
      "application/javascript": [
       "\n",
       "            setTimeout(function() {\n",
       "                var nbb_cell_id = 8;\n",
       "                var nbb_unformatted_code = \"###################################################################################\\n#                               MAIN SCRIPT                                       #\\n###################################################################################\\n\\ntrain_data, test_data = divide_data(iris_df)\\n\\ncount = 0\\nresult_labels = []\\nneigh_indices = []\\nneigh_distances = []\\nneigh_labels = []\\nactual_label = []\\nstatus = []\\n\\nfor i in range(len(test_data)):\\n\\n    k = 2\\n\\n    result_label, neigh_index, neigh_dist, neigh_label = knn(\\n        train_data, test_data.iloc[i][0:-1], k\\n    )\\n\\n    result_labels.append(result_label)\\n    neigh_indices.append(neigh_index)\\n    neigh_distances.append(neigh_dist)\\n    neigh_labels.append(neigh_label)\\n    actual_label.append(test_data.iloc[i][-1])\\n\\n    if result_label == test_data.iloc[i][-1]:\\n        count += 1\\n        status.append(\\\"pass\\\")\\n    else:\\n        status.append(\\\"fail\\\")\\n\\n# calculating the accuracy\\nscore = (count / test_data.shape[0]) * 100\\n\\n# results dataframe for easy visualization\\ndf = pd.DataFrame(\\n    {\\n        #         \\\"neighbor_index\\\":neigh_indices,\\n        \\\"neighbor_dist\\\": neigh_distances,\\n        \\\"neighbor_label\\\": neigh_labels,\\n        \\\"result_label\\\": result_labels,\\n        \\\"actual_label\\\": actual_label,\\n        \\\"result\\\": status,\\n    }\\n)\\n\\nprint(df)\\nprint(\\\"\\\\nk: \\\", k)\\nprint(\\\"Total Number of Input Data Points: \\\", test_data.shape[0])\\nprint(\\\"Number of Passed test cases: \\\", count)\\nprint(f\\\"\\\\nModel Accuracy: {score:.2f}%\\\")\";\n",
       "                var nbb_formatted_code = \"###################################################################################\\n#                               MAIN SCRIPT                                       #\\n###################################################################################\\n\\ntrain_data, test_data = divide_data(iris_df)\\n\\ncount = 0\\nresult_labels = []\\nneigh_indices = []\\nneigh_distances = []\\nneigh_labels = []\\nactual_label = []\\nstatus = []\\n\\nfor i in range(len(test_data)):\\n\\n    k = 2\\n\\n    result_label, neigh_index, neigh_dist, neigh_label = knn(\\n        train_data, test_data.iloc[i][0:-1], k\\n    )\\n\\n    result_labels.append(result_label)\\n    neigh_indices.append(neigh_index)\\n    neigh_distances.append(neigh_dist)\\n    neigh_labels.append(neigh_label)\\n    actual_label.append(test_data.iloc[i][-1])\\n\\n    if result_label == test_data.iloc[i][-1]:\\n        count += 1\\n        status.append(\\\"pass\\\")\\n    else:\\n        status.append(\\\"fail\\\")\\n\\n# calculating the accuracy\\nscore = (count / test_data.shape[0]) * 100\\n\\n# results dataframe for easy visualization\\ndf = pd.DataFrame(\\n    {\\n        #         \\\"neighbor_index\\\":neigh_indices,\\n        \\\"neighbor_dist\\\": neigh_distances,\\n        \\\"neighbor_label\\\": neigh_labels,\\n        \\\"result_label\\\": result_labels,\\n        \\\"actual_label\\\": actual_label,\\n        \\\"result\\\": status,\\n    }\\n)\\n\\nprint(df)\\nprint(\\\"\\\\nk: \\\", k)\\nprint(\\\"Total Number of Input Data Points: \\\", test_data.shape[0])\\nprint(\\\"Number of Passed test cases: \\\", count)\\nprint(f\\\"\\\\nModel Accuracy: {score:.2f}%\\\")\";\n",
       "                var nbb_cells = Jupyter.notebook.get_cells();\n",
       "                for (var i = 0; i < nbb_cells.length; ++i) {\n",
       "                    if (nbb_cells[i].input_prompt_number == nbb_cell_id) {\n",
       "                        if (nbb_cells[i].get_text() == nbb_unformatted_code) {\n",
       "                             nbb_cells[i].set_text(nbb_formatted_code);\n",
       "                        }\n",
       "                        break;\n",
       "                    }\n",
       "                }\n",
       "            }, 500);\n",
       "            "
      ],
      "text/plain": [
       "<IPython.core.display.Javascript object>"
      ]
     },
     "metadata": {},
     "output_type": "display_data"
    }
   ],
   "source": [
    "###################################################################################\n",
    "#                               MAIN SCRIPT                                       #\n",
    "###################################################################################\n",
    "\n",
    "train_data, test_data = divide_data(iris_df)\n",
    "\n",
    "count = 0\n",
    "result_labels = []\n",
    "neigh_indices = []\n",
    "neigh_distances = []\n",
    "neigh_labels = []\n",
    "actual_label = []\n",
    "status = []\n",
    "\n",
    "for i in range(len(test_data)):\n",
    "\n",
    "    k = 2\n",
    "\n",
    "    result_label, neigh_index, neigh_dist, neigh_label = knn(\n",
    "        train_data, test_data.iloc[i][0:-1], k\n",
    "    )\n",
    "\n",
    "    result_labels.append(result_label)\n",
    "    neigh_indices.append(neigh_index)\n",
    "    neigh_distances.append(neigh_dist)\n",
    "    neigh_labels.append(neigh_label)\n",
    "    actual_label.append(test_data.iloc[i][-1])\n",
    "\n",
    "    if result_label == test_data.iloc[i][-1]:\n",
    "        count += 1\n",
    "        status.append(\"pass\")\n",
    "    else:\n",
    "        status.append(\"fail\")\n",
    "\n",
    "# calculating the accuracy\n",
    "score = (count / test_data.shape[0]) * 100\n",
    "\n",
    "# results dataframe for easy visualization\n",
    "df = pd.DataFrame(\n",
    "    {\n",
    "        #         \"neighbor_index\":neigh_indices,\n",
    "        \"neighbor_dist\": neigh_distances,\n",
    "        \"neighbor_label\": neigh_labels,\n",
    "        \"result_label\": result_labels,\n",
    "        \"actual_label\": actual_label,\n",
    "        \"result\": status,\n",
    "    }\n",
    ")\n",
    "\n",
    "print(df)\n",
    "print(\"\\nk: \", k)\n",
    "print(\"Total Number of Input Data Points: \", test_data.shape[0])\n",
    "print(\"Number of Passed test cases: \", count)\n",
    "print(f\"\\nModel Accuracy: {score:.2f}%\")"
   ]
  }
 ],
 "metadata": {
  "kernelspec": {
   "display_name": "models",
   "language": "python",
   "name": "models"
  },
  "language_info": {
   "codemirror_mode": {
    "name": "ipython",
    "version": 3
   },
   "file_extension": ".py",
   "mimetype": "text/x-python",
   "name": "python",
   "nbconvert_exporter": "python",
   "pygments_lexer": "ipython3",
   "version": "3.7.5"
  }
 },
 "nbformat": 4,
 "nbformat_minor": 2
}
