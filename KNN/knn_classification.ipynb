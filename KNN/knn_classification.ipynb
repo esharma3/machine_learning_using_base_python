{
 "cells": [
  {
   "cell_type": "markdown",
   "metadata": {},
   "source": [
    "# K Nearest Neighbors - A Supervised Machine Learning Algorithm\n",
    "\n",
    "Implementing KNN classification Algorithm using base Python for the classic Iris Dataset.\n",
    "\n",
    "\n",
    "\n",
    "#### Steps:\n",
    "\n",
    "    1. Divide the dataset into train and test data.\n",
    "    2. Calculate distance (Euclidean distance) between each new data point and all data points in training dataset.\n",
    "    3. Sort the distances in ascending order and extract top k shortest distances.  \n",
    "    4. Find the most frequentyly occurring label/class for the k shortest distance data points.\n",
    "    5. Assign the most frequently occurring class label to the new data point.\n",
    "    6. Calculate the model accuracy - number of correct match / total new input data points.\n",
    "    \n",
    "    \n",
    "    \n",
    "    \n",
    "    "
   ]
  },
  {
   "cell_type": "code",
   "execution_count": 1,
   "metadata": {},
   "outputs": [
    {
     "data": {
      "application/javascript": [
       "\n",
       "            setTimeout(function() {\n",
       "                var nbb_cell_id = 1;\n",
       "                var nbb_unformatted_code = \"#importing dependencies here\\nimport numpy as np\\nimport matplotlib.pyplot as plt\\nimport pandas as pd\\nimport operator\\n\\n%load_ext nb_black\";\n",
       "                var nbb_formatted_code = \"# importing dependencies here\\nimport numpy as np\\nimport matplotlib.pyplot as plt\\nimport pandas as pd\\nimport operator\\n\\n%load_ext nb_black\";\n",
       "                var nbb_cells = Jupyter.notebook.get_cells();\n",
       "                for (var i = 0; i < nbb_cells.length; ++i) {\n",
       "                    if (nbb_cells[i].input_prompt_number == nbb_cell_id) {\n",
       "                        if (nbb_cells[i].get_text() == nbb_unformatted_code) {\n",
       "                             nbb_cells[i].set_text(nbb_formatted_code);\n",
       "                        }\n",
       "                        break;\n",
       "                    }\n",
       "                }\n",
       "            }, 500);\n",
       "            "
      ],
      "text/plain": [
       "<IPython.core.display.Javascript object>"
      ]
     },
     "metadata": {},
     "output_type": "display_data"
    }
   ],
   "source": [
    "# importing dependencies here\n",
    "import numpy as np\n",
    "import matplotlib.pyplot as plt\n",
    "import pandas as pd\n",
    "import operator\n",
    "\n",
    "%load_ext nb_black"
   ]
  },
  {
   "cell_type": "code",
   "execution_count": 2,
   "metadata": {},
   "outputs": [
    {
     "data": {
      "application/javascript": [
       "\n",
       "            setTimeout(function() {\n",
       "                var nbb_cell_id = 2;\n",
       "                var nbb_unformatted_code = \"# reading the classic iris dataset into a df \\niris_df = pd.read_csv(\\\"iris_dataset.csv\\\")\";\n",
       "                var nbb_formatted_code = \"# reading the classic iris dataset into a df\\niris_df = pd.read_csv(\\\"iris_dataset.csv\\\")\";\n",
       "                var nbb_cells = Jupyter.notebook.get_cells();\n",
       "                for (var i = 0; i < nbb_cells.length; ++i) {\n",
       "                    if (nbb_cells[i].input_prompt_number == nbb_cell_id) {\n",
       "                        if (nbb_cells[i].get_text() == nbb_unformatted_code) {\n",
       "                             nbb_cells[i].set_text(nbb_formatted_code);\n",
       "                        }\n",
       "                        break;\n",
       "                    }\n",
       "                }\n",
       "            }, 500);\n",
       "            "
      ],
      "text/plain": [
       "<IPython.core.display.Javascript object>"
      ]
     },
     "metadata": {},
     "output_type": "display_data"
    }
   ],
   "source": [
    "# reading the classic iris dataset into a df\n",
    "iris_df = pd.read_csv(\"iris_dataset.csv\")"
   ]
  },
  {
   "cell_type": "code",
   "execution_count": 3,
   "metadata": {},
   "outputs": [
    {
     "data": {
      "text/plain": [
       "sepal_length    150\n",
       "sepal_width     150\n",
       "petal_length    150\n",
       "petal_width     150\n",
       "species         150\n",
       "dtype: int64"
      ]
     },
     "execution_count": 3,
     "metadata": {},
     "output_type": "execute_result"
    },
    {
     "data": {
      "application/javascript": [
       "\n",
       "            setTimeout(function() {\n",
       "                var nbb_cell_id = 3;\n",
       "                var nbb_unformatted_code = \"iris_df.count()\";\n",
       "                var nbb_formatted_code = \"iris_df.count()\";\n",
       "                var nbb_cells = Jupyter.notebook.get_cells();\n",
       "                for (var i = 0; i < nbb_cells.length; ++i) {\n",
       "                    if (nbb_cells[i].input_prompt_number == nbb_cell_id) {\n",
       "                        if (nbb_cells[i].get_text() == nbb_unformatted_code) {\n",
       "                             nbb_cells[i].set_text(nbb_formatted_code);\n",
       "                        }\n",
       "                        break;\n",
       "                    }\n",
       "                }\n",
       "            }, 500);\n",
       "            "
      ],
      "text/plain": [
       "<IPython.core.display.Javascript object>"
      ]
     },
     "metadata": {},
     "output_type": "display_data"
    }
   ],
   "source": [
    "iris_df.count()"
   ]
  },
  {
   "cell_type": "code",
   "execution_count": 4,
   "metadata": {},
   "outputs": [
    {
     "data": {
      "text/html": [
       "<div>\n",
       "<style scoped>\n",
       "    .dataframe tbody tr th:only-of-type {\n",
       "        vertical-align: middle;\n",
       "    }\n",
       "\n",
       "    .dataframe tbody tr th {\n",
       "        vertical-align: top;\n",
       "    }\n",
       "\n",
       "    .dataframe thead th {\n",
       "        text-align: right;\n",
       "    }\n",
       "</style>\n",
       "<table border=\"1\" class=\"dataframe\">\n",
       "  <thead>\n",
       "    <tr style=\"text-align: right;\">\n",
       "      <th></th>\n",
       "      <th>sepal_length</th>\n",
       "      <th>sepal_width</th>\n",
       "      <th>petal_length</th>\n",
       "      <th>petal_width</th>\n",
       "      <th>species</th>\n",
       "    </tr>\n",
       "  </thead>\n",
       "  <tbody>\n",
       "    <tr>\n",
       "      <th>0</th>\n",
       "      <td>5.1</td>\n",
       "      <td>3.5</td>\n",
       "      <td>1.4</td>\n",
       "      <td>0.2</td>\n",
       "      <td>setosa</td>\n",
       "    </tr>\n",
       "    <tr>\n",
       "      <th>1</th>\n",
       "      <td>4.9</td>\n",
       "      <td>3.0</td>\n",
       "      <td>1.4</td>\n",
       "      <td>0.2</td>\n",
       "      <td>setosa</td>\n",
       "    </tr>\n",
       "    <tr>\n",
       "      <th>2</th>\n",
       "      <td>4.7</td>\n",
       "      <td>3.2</td>\n",
       "      <td>1.3</td>\n",
       "      <td>0.2</td>\n",
       "      <td>setosa</td>\n",
       "    </tr>\n",
       "    <tr>\n",
       "      <th>3</th>\n",
       "      <td>4.6</td>\n",
       "      <td>3.1</td>\n",
       "      <td>1.5</td>\n",
       "      <td>0.2</td>\n",
       "      <td>setosa</td>\n",
       "    </tr>\n",
       "    <tr>\n",
       "      <th>4</th>\n",
       "      <td>5.0</td>\n",
       "      <td>3.6</td>\n",
       "      <td>1.4</td>\n",
       "      <td>0.2</td>\n",
       "      <td>setosa</td>\n",
       "    </tr>\n",
       "  </tbody>\n",
       "</table>\n",
       "</div>"
      ],
      "text/plain": [
       "   sepal_length  sepal_width  petal_length  petal_width species\n",
       "0           5.1          3.5           1.4          0.2  setosa\n",
       "1           4.9          3.0           1.4          0.2  setosa\n",
       "2           4.7          3.2           1.3          0.2  setosa\n",
       "3           4.6          3.1           1.5          0.2  setosa\n",
       "4           5.0          3.6           1.4          0.2  setosa"
      ]
     },
     "execution_count": 4,
     "metadata": {},
     "output_type": "execute_result"
    },
    {
     "data": {
      "application/javascript": [
       "\n",
       "            setTimeout(function() {\n",
       "                var nbb_cell_id = 4;\n",
       "                var nbb_unformatted_code = \"iris_df.head() \";\n",
       "                var nbb_formatted_code = \"iris_df.head()\";\n",
       "                var nbb_cells = Jupyter.notebook.get_cells();\n",
       "                for (var i = 0; i < nbb_cells.length; ++i) {\n",
       "                    if (nbb_cells[i].input_prompt_number == nbb_cell_id) {\n",
       "                        if (nbb_cells[i].get_text() == nbb_unformatted_code) {\n",
       "                             nbb_cells[i].set_text(nbb_formatted_code);\n",
       "                        }\n",
       "                        break;\n",
       "                    }\n",
       "                }\n",
       "            }, 500);\n",
       "            "
      ],
      "text/plain": [
       "<IPython.core.display.Javascript object>"
      ]
     },
     "metadata": {},
     "output_type": "display_data"
    }
   ],
   "source": [
    "iris_df.head()"
   ]
  },
  {
   "cell_type": "code",
   "execution_count": 5,
   "metadata": {},
   "outputs": [
    {
     "data": {
      "application/javascript": [
       "\n",
       "            setTimeout(function() {\n",
       "                var nbb_cell_id = 5;\n",
       "                var nbb_unformatted_code = \"# dividing the data into train and test\\ndef divide_data(data):\\n    \\n    np.random.seed(400)\\n    data = data.apply(np.random.permutation, axis=0) \\n    \\n    train_data = data[0:int(0.8*150)]\\n    test_data = data[int(0.8*150):]\\n    \\n#     print(\\\"TRAIN \\\", train_data)\\n#     print(\\\"TEST\\\", test_data)\\n    return train_data, test_data\\n    \";\n",
       "                var nbb_formatted_code = \"# dividing the data into train and test\\ndef divide_data(data):\\n\\n    np.random.seed(400)\\n    data = data.apply(np.random.permutation, axis=0)\\n\\n    train_data = data[0 : int(0.8 * 150)]\\n    test_data = data[int(0.8 * 150) :]\\n\\n    #     print(\\\"TRAIN \\\", train_data)\\n    #     print(\\\"TEST\\\", test_data)\\n    return train_data, test_data\";\n",
       "                var nbb_cells = Jupyter.notebook.get_cells();\n",
       "                for (var i = 0; i < nbb_cells.length; ++i) {\n",
       "                    if (nbb_cells[i].input_prompt_number == nbb_cell_id) {\n",
       "                        if (nbb_cells[i].get_text() == nbb_unformatted_code) {\n",
       "                             nbb_cells[i].set_text(nbb_formatted_code);\n",
       "                        }\n",
       "                        break;\n",
       "                    }\n",
       "                }\n",
       "            }, 500);\n",
       "            "
      ],
      "text/plain": [
       "<IPython.core.display.Javascript object>"
      ]
     },
     "metadata": {},
     "output_type": "display_data"
    }
   ],
   "source": [
    "# dividing the data into train and test\n",
    "def divide_data(data):\n",
    "\n",
    "    np.random.seed(400)\n",
    "    data = data.apply(np.random.permutation, axis=0)\n",
    "\n",
    "    train_data = data[0 : int(0.8 * 150)]\n",
    "    test_data = data[int(0.8 * 150) :]\n",
    "\n",
    "    #     print(\"TRAIN \", train_data)\n",
    "    #     print(\"TEST\", test_data)\n",
    "    return train_data, test_data"
   ]
  },
  {
   "cell_type": "code",
   "execution_count": 6,
   "metadata": {},
   "outputs": [
    {
     "data": {
      "application/javascript": [
       "\n",
       "            setTimeout(function() {\n",
       "                var nbb_cell_id = 6;\n",
       "                var nbb_unformatted_code = \"# Euclidean distance calculation\\ndef calc_distance(training_data, test_data_row, length):\\n    distance = 0\\n    for x in range(length):\\n        distance += (training_data[x] - test_data_row[x]) ** 2\\n#         distance += np.square(training_data[x] - test_data_row[x])\\n    return np.sqrt(distance)\\n#     return distance\\n        \";\n",
       "                var nbb_formatted_code = \"# Euclidean distance calculation\\ndef calc_distance(training_data, test_data_row, length):\\n    distance = 0\\n    for x in range(length):\\n        distance += (training_data[x] - test_data_row[x]) ** 2\\n    #         distance += np.square(training_data[x] - test_data_row[x])\\n    return np.sqrt(distance)\\n\\n\\n#     return distance\";\n",
       "                var nbb_cells = Jupyter.notebook.get_cells();\n",
       "                for (var i = 0; i < nbb_cells.length; ++i) {\n",
       "                    if (nbb_cells[i].input_prompt_number == nbb_cell_id) {\n",
       "                        if (nbb_cells[i].get_text() == nbb_unformatted_code) {\n",
       "                             nbb_cells[i].set_text(nbb_formatted_code);\n",
       "                        }\n",
       "                        break;\n",
       "                    }\n",
       "                }\n",
       "            }, 500);\n",
       "            "
      ],
      "text/plain": [
       "<IPython.core.display.Javascript object>"
      ]
     },
     "metadata": {},
     "output_type": "display_data"
    }
   ],
   "source": [
    "# Euclidean distance calculation\n",
    "def calc_distance(training_data, test_data_row, length):\n",
    "    distance = 0\n",
    "    for x in range(length):\n",
    "        distance += (training_data[x] - test_data_row[x]) ** 2\n",
    "    #         distance += np.square(training_data[x] - test_data_row[x])\n",
    "    return np.sqrt(distance)\n",
    "\n",
    "\n",
    "#     return distance"
   ]
  },
  {
   "cell_type": "code",
   "execution_count": 7,
   "metadata": {},
   "outputs": [
    {
     "data": {
      "application/javascript": [
       "\n",
       "            setTimeout(function() {\n",
       "                var nbb_cell_id = 7;\n",
       "                var nbb_unformatted_code = \"def knn(train_data, test_data_instance, k):\\n\\n    distance_dict = {}\\n    length = test_data_instance.shape[0]\\n    \\n    # create dictionary of training row index and row distance from the new data point\\n    for i in range(len(train_data)):\\n        dist = calc_distance(train_data.iloc[i], test_data_instance, length)\\n        distance_dict[i] = dist  #dist[0]\\n    \\n#     print(\\\"distance_dict\\\", distance_dict)\\n    # create list of sorted tuples (index,dist) based on distance in ascending order\\n    sorted_distances = sorted(distance_dict.items(), key=operator.itemgetter(1))  #dict.items() returns a list of (key,value) pairs\\n   \\n    # create list of top k number of distances and related row index (list k shortest distances)\\n    neighbors_index = []  \\n    neighbors_dist = [] \\n    for j in range(k):\\n        neighbors_index.append(sorted_distances[j][0])\\n        neighbors_dist.append(round(sorted_distances[j][1], 2))\\n#     print(\\\"neighbors_index\\\", neighbors_index)\\n    \\n    # counting most occurring label/class\\n    count = {}\\n    neigh_label = []\\n    \\n    for m in range(len(neighbors_index)):\\n        \\n        response = train_data.iloc[neighbors_index[m]][-1]\\n#         print(\\\"RESPONSE\\\", response)\\n        \\n        neigh_label.append(response)\\n        \\n        if response in count.keys():\\n            count[response] += 1\\n        else:\\n            count[response] = 1\\n    \\n#     print(\\\"COUNT\\\", count)\\n    # sorting to get label of most frequent class (in descending order)\\n    sortcount = sorted(count.items(), key=operator.itemgetter(1), reverse=True)\\n    \\n#     print(\\\"neighbors_index\\\", neighbors_index)\\n#     print(\\\"neighbors_dist\\\", neighbors_dist)\\n#     print(\\\"SORT COUNT\\\", sortcount)\\n    return (sortcount[0][0], neighbors_index, neighbors_dist, neigh_label)    \\n    \";\n",
       "                var nbb_formatted_code = \"def knn(train_data, test_data_instance, k):\\n\\n    distance_dict = {}\\n    length = test_data_instance.shape[0]\\n\\n    # create dictionary of training row index and row distance from the new data point\\n    for i in range(len(train_data)):\\n        dist = calc_distance(train_data.iloc[i], test_data_instance, length)\\n        distance_dict[i] = dist  # dist[0]\\n\\n    #     print(\\\"distance_dict\\\", distance_dict)\\n    # create list of sorted tuples (index,dist) based on distance in ascending order\\n    sorted_distances = sorted(\\n        distance_dict.items(), key=operator.itemgetter(1)\\n    )  # dict.items() returns a list of (key,value) pairs\\n\\n    # create list of top k number of distances and related row index (list k shortest distances)\\n    neighbors_index = []\\n    neighbors_dist = []\\n    for j in range(k):\\n        neighbors_index.append(sorted_distances[j][0])\\n        neighbors_dist.append(round(sorted_distances[j][1], 2))\\n    #     print(\\\"neighbors_index\\\", neighbors_index)\\n\\n    # counting most occurring label/class\\n    count = {}\\n    neigh_label = []\\n\\n    for m in range(len(neighbors_index)):\\n\\n        response = train_data.iloc[neighbors_index[m]][-1]\\n        #         print(\\\"RESPONSE\\\", response)\\n\\n        neigh_label.append(response)\\n\\n        if response in count.keys():\\n            count[response] += 1\\n        else:\\n            count[response] = 1\\n\\n    #     print(\\\"COUNT\\\", count)\\n    # sorting to get label of most frequent class (in descending order)\\n    sortcount = sorted(count.items(), key=operator.itemgetter(1), reverse=True)\\n\\n    #     print(\\\"neighbors_index\\\", neighbors_index)\\n    #     print(\\\"neighbors_dist\\\", neighbors_dist)\\n    #     print(\\\"SORT COUNT\\\", sortcount)\\n    return (sortcount[0][0], neighbors_index, neighbors_dist, neigh_label)\";\n",
       "                var nbb_cells = Jupyter.notebook.get_cells();\n",
       "                for (var i = 0; i < nbb_cells.length; ++i) {\n",
       "                    if (nbb_cells[i].input_prompt_number == nbb_cell_id) {\n",
       "                        if (nbb_cells[i].get_text() == nbb_unformatted_code) {\n",
       "                             nbb_cells[i].set_text(nbb_formatted_code);\n",
       "                        }\n",
       "                        break;\n",
       "                    }\n",
       "                }\n",
       "            }, 500);\n",
       "            "
      ],
      "text/plain": [
       "<IPython.core.display.Javascript object>"
      ]
     },
     "metadata": {},
     "output_type": "display_data"
    }
   ],
   "source": [
    "def knn(train_data, test_data_instance, k):\n",
    "\n",
    "    distance_dict = {}\n",
    "    length = test_data_instance.shape[0]\n",
    "\n",
    "    # create dictionary of training row index and row distance from the new data point\n",
    "    for i in range(len(train_data)):\n",
    "        dist = calc_distance(train_data.iloc[i], test_data_instance, length)\n",
    "        distance_dict[i] = dist  # dist[0]\n",
    "\n",
    "    #     print(\"distance_dict\", distance_dict)\n",
    "    # create list of sorted tuples (index,dist) based on distance in ascending order\n",
    "    sorted_distances = sorted(\n",
    "        distance_dict.items(), key=operator.itemgetter(1)\n",
    "    )  # dict.items() returns a list of (key,value) pairs\n",
    "\n",
    "    # create list of top k number of distances and related row index (list k shortest distances)\n",
    "    neighbors_index = []\n",
    "    neighbors_dist = []\n",
    "    for j in range(k):\n",
    "        neighbors_index.append(sorted_distances[j][0])\n",
    "        neighbors_dist.append(round(sorted_distances[j][1], 2))\n",
    "    #     print(\"neighbors_index\", neighbors_index)\n",
    "\n",
    "    # counting most occurring label/class\n",
    "    count = {}\n",
    "    neigh_label = []\n",
    "\n",
    "    for m in range(len(neighbors_index)):\n",
    "\n",
    "        response = train_data.iloc[neighbors_index[m]][-1]\n",
    "        #         print(\"RESPONSE\", response)\n",
    "\n",
    "        neigh_label.append(response)\n",
    "\n",
    "        if response in count.keys():\n",
    "            count[response] += 1\n",
    "        else:\n",
    "            count[response] = 1\n",
    "\n",
    "    #     print(\"COUNT\", count)\n",
    "    # sorting to get label of most frequent class (in descending order)\n",
    "    sortcount = sorted(count.items(), key=operator.itemgetter(1), reverse=True)\n",
    "\n",
    "    #     print(\"neighbors_index\", neighbors_index)\n",
    "    #     print(\"neighbors_dist\", neighbors_dist)\n",
    "    #     print(\"SORT COUNT\", sortcount)\n",
    "    return (sortcount[0][0], neighbors_index, neighbors_dist, neigh_label)"
   ]
  },
  {
   "cell_type": "code",
   "execution_count": 8,
   "metadata": {},
   "outputs": [
    {
     "name": "stdout",
     "output_type": "stream",
     "text": [
      "               neighbor_dist                                   neighbor_label  \\\n",
      "0   [0.51, 0.54, 0.55, 0.58]       [setosa, virginica, virginica, versicolor]   \n",
      "1   [0.44, 0.62, 0.68, 0.85]          [virginica, setosa, setosa, versicolor]   \n",
      "2    [0.5, 0.88, 0.96, 1.12]      [virginica, setosa, versicolor, versicolor]   \n",
      "3   [0.35, 0.37, 0.56, 0.62]           [setosa, setosa, virginica, virginica]   \n",
      "4   [0.44, 0.52, 0.62, 0.76]   [virginica, virginica, versicolor, versicolor]   \n",
      "5   [0.26, 0.36, 0.46, 0.66]       [virginica, versicolor, virginica, setosa]   \n",
      "6   [0.57, 0.87, 0.99, 1.02]      [versicolor, versicolor, virginica, setosa]   \n",
      "7   [0.88, 0.91, 0.92, 0.92]              [virginica, setosa, setosa, setosa]   \n",
      "8    [0.78, 0.93, 0.99, 1.0]           [virginica, virginica, setosa, setosa]   \n",
      "9   [0.79, 0.81, 1.14, 1.19]      [setosa, versicolor, versicolor, virginica]   \n",
      "10  [0.54, 1.35, 1.39, 1.49]      [versicolor, virginica, versicolor, setosa]   \n",
      "11  [0.46, 0.52, 0.62, 0.66]          [versicolor, virginica, setosa, setosa]   \n",
      "12   [0.22, 0.32, 0.44, 0.5]        [setosa, virginica, virginica, virginica]   \n",
      "13  [0.22, 0.32, 0.39, 0.45]       [virginica, setosa, versicolor, virginica]   \n",
      "14  [0.45, 0.71, 0.72, 0.73]      [virginica, setosa, versicolor, versicolor]   \n",
      "15  [0.45, 0.96, 1.02, 1.18]        [virginica, setosa, virginica, virginica]   \n",
      "16  [0.54, 0.75, 0.76, 0.85]           [setosa, setosa, virginica, virginica]   \n",
      "17  [0.57, 0.81, 0.85, 0.93]             [setosa, versicolor, setosa, setosa]   \n",
      "18  [0.37, 0.59, 0.79, 0.93]     [setosa, versicolor, versicolor, versicolor]   \n",
      "19   [0.2, 0.24, 0.39, 0.44]          [setosa, versicolor, setosa, virginica]   \n",
      "20  [0.47, 0.51, 0.69, 0.73]          [virginica, versicolor, setosa, setosa]   \n",
      "21   [0.36, 0.5, 0.73, 0.77]      [versicolor, setosa, virginica, versicolor]   \n",
      "22  [0.52, 0.64, 0.68, 0.71]  [versicolor, versicolor, versicolor, virginica]   \n",
      "23   [0.95, 0.99, 1.0, 1.13]          [virginica, setosa, versicolor, setosa]   \n",
      "24  [0.69, 0.77, 0.79, 0.79]          [virginica, setosa, versicolor, setosa]   \n",
      "25  [0.24, 0.73, 1.02, 1.02]             [setosa, setosa, setosa, versicolor]   \n",
      "26  [0.39, 0.55, 0.71, 0.91]   [versicolor, virginica, virginica, versicolor]   \n",
      "27  [0.84, 1.09, 1.14, 1.14]       [virginica, virginica, versicolor, setosa]   \n",
      "28  [0.51, 0.81, 0.86, 0.88]        [virginica, setosa, virginica, virginica]   \n",
      "29    [0.3, 0.7, 0.77, 0.81]    [virginica, virginica, virginica, versicolor]   \n",
      "\n",
      "   result_label actual_label result  \n",
      "0     virginica   versicolor   fail  \n",
      "1        setosa   versicolor   fail  \n",
      "2    versicolor   versicolor   pass  \n",
      "3        setosa   versicolor   fail  \n",
      "4     virginica   versicolor   fail  \n",
      "5     virginica       setosa   fail  \n",
      "6    versicolor       setosa   fail  \n",
      "7        setosa       setosa   pass  \n",
      "8     virginica    virginica   pass  \n",
      "9    versicolor       setosa   fail  \n",
      "10   versicolor       setosa   fail  \n",
      "11       setosa   versicolor   fail  \n",
      "12    virginica       setosa   fail  \n",
      "13    virginica   versicolor   fail  \n",
      "14   versicolor       setosa   fail  \n",
      "15    virginica    virginica   pass  \n",
      "16       setosa   versicolor   fail  \n",
      "17       setosa       setosa   pass  \n",
      "18   versicolor       setosa   fail  \n",
      "19       setosa    virginica   fail  \n",
      "20       setosa       setosa   pass  \n",
      "21   versicolor   versicolor   pass  \n",
      "22   versicolor    virginica   fail  \n",
      "23       setosa   versicolor   fail  \n",
      "24       setosa   versicolor   fail  \n",
      "25       setosa    virginica   fail  \n",
      "26   versicolor    virginica   fail  \n",
      "27    virginica       setosa   fail  \n",
      "28    virginica   versicolor   fail  \n",
      "29    virginica   versicolor   fail  \n",
      "\n",
      "k:  4\n",
      "Total Number of Input Data Points:  30\n",
      "Number of Passed test cases:  7\n",
      "\n",
      "Model Accuracy: 23.33%\n"
     ]
    },
    {
     "data": {
      "application/javascript": [
       "\n",
       "            setTimeout(function() {\n",
       "                var nbb_cell_id = 8;\n",
       "                var nbb_unformatted_code = \"###################################################################################\\n#                               MAIN SCRIPT                                       #\\n###################################################################################\\n\\ntrain_data, test_data = divide_data(iris_df)\\n\\ncount = 0\\nresult_labels = []\\nneigh_indices = []\\nneigh_distances = []\\nneigh_labels = []\\nactual_label = []\\nstatus = []\\n\\nfor i in range(len(test_data)):\\n    \\n    k=4\\n    \\n    result_label, neigh_index, neigh_dist, neigh_label = knn(train_data, test_data.iloc[i][0:-1], k) \\n    \\n    result_labels.append(result_label)\\n    neigh_indices.append(neigh_index)\\n    neigh_distances.append(neigh_dist)\\n    neigh_labels.append(neigh_label)\\n    actual_label.append(test_data.iloc[i][-1])\\n    \\n  \\n    if result_label == test_data.iloc[i][-1]:\\n        count += 1\\n        status.append(\\\"pass\\\")\\n    else:\\n        status.append(\\\"fail\\\")\\n\\n# calculating the accuracy\\nscore = (count/test_data.shape[0]) * 100\\n\\n# results dataframe for easy visualization\\ndf = pd.DataFrame({\\n#                     \\\"neighbor_index\\\":neigh_indices,\\n                    \\\"neighbor_dist\\\":neigh_distances,\\n                  \\\"neighbor_label\\\":neigh_labels,\\n                   \\\"result_label\\\":result_labels,\\n                  \\\"actual_label\\\":actual_label,\\n                  \\\"result\\\": status})\\n\\nprint(df)\\nprint(\\\"\\\\nk: \\\", k)\\nprint(\\\"Total Number of Input Data Points: \\\", test_data.shape[0])\\nprint(\\\"Number of Passed test cases: \\\", count)\\nprint(f\\\"\\\\nModel Accuracy: {score:.2f}%\\\")\\n   \";\n",
       "                var nbb_formatted_code = \"###################################################################################\\n#                               MAIN SCRIPT                                       #\\n###################################################################################\\n\\ntrain_data, test_data = divide_data(iris_df)\\n\\ncount = 0\\nresult_labels = []\\nneigh_indices = []\\nneigh_distances = []\\nneigh_labels = []\\nactual_label = []\\nstatus = []\\n\\nfor i in range(len(test_data)):\\n\\n    k = 4\\n\\n    result_label, neigh_index, neigh_dist, neigh_label = knn(\\n        train_data, test_data.iloc[i][0:-1], k\\n    )\\n\\n    result_labels.append(result_label)\\n    neigh_indices.append(neigh_index)\\n    neigh_distances.append(neigh_dist)\\n    neigh_labels.append(neigh_label)\\n    actual_label.append(test_data.iloc[i][-1])\\n\\n    if result_label == test_data.iloc[i][-1]:\\n        count += 1\\n        status.append(\\\"pass\\\")\\n    else:\\n        status.append(\\\"fail\\\")\\n\\n# calculating the accuracy\\nscore = (count / test_data.shape[0]) * 100\\n\\n# results dataframe for easy visualization\\ndf = pd.DataFrame(\\n    {\\n        #                     \\\"neighbor_index\\\":neigh_indices,\\n        \\\"neighbor_dist\\\": neigh_distances,\\n        \\\"neighbor_label\\\": neigh_labels,\\n        \\\"result_label\\\": result_labels,\\n        \\\"actual_label\\\": actual_label,\\n        \\\"result\\\": status,\\n    }\\n)\\n\\nprint(df)\\nprint(\\\"\\\\nk: \\\", k)\\nprint(\\\"Total Number of Input Data Points: \\\", test_data.shape[0])\\nprint(\\\"Number of Passed test cases: \\\", count)\\nprint(f\\\"\\\\nModel Accuracy: {score:.2f}%\\\")\";\n",
       "                var nbb_cells = Jupyter.notebook.get_cells();\n",
       "                for (var i = 0; i < nbb_cells.length; ++i) {\n",
       "                    if (nbb_cells[i].input_prompt_number == nbb_cell_id) {\n",
       "                        if (nbb_cells[i].get_text() == nbb_unformatted_code) {\n",
       "                             nbb_cells[i].set_text(nbb_formatted_code);\n",
       "                        }\n",
       "                        break;\n",
       "                    }\n",
       "                }\n",
       "            }, 500);\n",
       "            "
      ],
      "text/plain": [
       "<IPython.core.display.Javascript object>"
      ]
     },
     "metadata": {},
     "output_type": "display_data"
    }
   ],
   "source": [
    "###################################################################################\n",
    "#                               MAIN SCRIPT                                       #\n",
    "###################################################################################\n",
    "\n",
    "train_data, test_data = divide_data(iris_df)\n",
    "\n",
    "count = 0\n",
    "result_labels = []\n",
    "neigh_indices = []\n",
    "neigh_distances = []\n",
    "neigh_labels = []\n",
    "actual_label = []\n",
    "status = []\n",
    "\n",
    "for i in range(len(test_data)):\n",
    "\n",
    "    k = 4\n",
    "\n",
    "    result_label, neigh_index, neigh_dist, neigh_label = knn(\n",
    "        train_data, test_data.iloc[i][0:-1], k\n",
    "    )\n",
    "\n",
    "    result_labels.append(result_label)\n",
    "    neigh_indices.append(neigh_index)\n",
    "    neigh_distances.append(neigh_dist)\n",
    "    neigh_labels.append(neigh_label)\n",
    "    actual_label.append(test_data.iloc[i][-1])\n",
    "\n",
    "    if result_label == test_data.iloc[i][-1]:\n",
    "        count += 1\n",
    "        status.append(\"pass\")\n",
    "    else:\n",
    "        status.append(\"fail\")\n",
    "\n",
    "# calculating the accuracy\n",
    "score = (count / test_data.shape[0]) * 100\n",
    "\n",
    "# results dataframe for easy visualization\n",
    "df = pd.DataFrame(\n",
    "    {\n",
    "        #                     \"neighbor_index\":neigh_indices,\n",
    "        \"neighbor_dist\": neigh_distances,\n",
    "        \"neighbor_label\": neigh_labels,\n",
    "        \"result_label\": result_labels,\n",
    "        \"actual_label\": actual_label,\n",
    "        \"result\": status,\n",
    "    }\n",
    ")\n",
    "\n",
    "print(df)\n",
    "print(\"\\nk: \", k)\n",
    "print(\"Total Number of Input Data Points: \", test_data.shape[0])\n",
    "print(\"Number of Passed test cases: \", count)\n",
    "print(f\"\\nModel Accuracy: {score:.2f}%\")"
   ]
  }
 ],
 "metadata": {
  "kernelspec": {
   "display_name": "ml_models",
   "language": "python",
   "name": "ml_models"
  },
  "language_info": {
   "codemirror_mode": {
    "name": "ipython",
    "version": 3
   },
   "file_extension": ".py",
   "mimetype": "text/x-python",
   "name": "python",
   "nbconvert_exporter": "python",
   "pygments_lexer": "ipython3",
   "version": "3.7.5"
  }
 },
 "nbformat": 4,
 "nbformat_minor": 2
}
